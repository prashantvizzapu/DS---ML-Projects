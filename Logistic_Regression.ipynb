{
 "cells": [
  {
   "cell_type": "markdown",
   "metadata": {
    "_cell_guid": "7b3f8258-662b-424a-9d35-e1fb882c1306",
    "_execution_state": "idle",
    "_uuid": "d677e0853462f88572798ca33d1bbd1af9e1f57e",
    "colab_type": "text",
    "id": "rRN3I-Dd4akS"
   },
   "source": [
    "We will use Logistic Regression to model the \"Pima Indians Diabetes\" data set. This model will predict which people are likely to develop diabetes.\n",
    "\n",
    "\n",
    "This dataset is originally from the National Institute of Diabetes and Digestive and Kidney Diseases. The objective of the dataset is to diagnostically predict whether or not a patient has diabetes, based on certain diagnostic measurements included in the dataset. Several constraints were placed on the selection of these instances from a larger database. In particular, all patients here are females at least 21 years old of Pima Indian heritage."
   ]
  },
  {
   "cell_type": "markdown",
   "metadata": {
    "_cell_guid": "26dcb635-f956-4672-b097-3419e36b0071",
    "_execution_state": "idle",
    "_uuid": "4e83bf1a41e4fce195fce364fe46049d4c47d61a",
    "colab_type": "text",
    "id": "wiZKORP94akT"
   },
   "source": [
    "## Import Libraries"
   ]
  },
  {
   "cell_type": "code",
   "execution_count": 1,
   "metadata": {
    "_cell_guid": "d6c9c45a-ab99-4724-9f79-3078de45a2c2",
    "_execution_state": "idle",
    "_uuid": "3f1077096bcba840ff0b64c1e3e75373d6f7cb4e",
    "colab": {},
    "colab_type": "code",
    "id": "RTq1Bp-T4akU"
   },
   "outputs": [],
   "source": [
    "import numpy as np # linear algebra\n",
    "import pandas as pd # data processing, CSV file I/O (e.g. pd.read_csv)\n",
    "import matplotlib.pyplot as plt       # matplotlib.pyplot plots data\n",
    "%matplotlib inline \n",
    "import seaborn as sns"
   ]
  },
  {
   "cell_type": "markdown",
   "metadata": {
    "_cell_guid": "7e6eecbd-4ed5-48a7-9a4a-f332284941a8",
    "_execution_state": "idle",
    "_uuid": "b67213ded17f98e51f96710ed75b3e30e0188aec",
    "colab_type": "text",
    "id": "eK4zHlYU4akY"
   },
   "source": [
    "## Load and review data"
   ]
  },
  {
   "cell_type": "code",
   "execution_count": 1,
   "metadata": {
    "_cell_guid": "494c0137-fe90-4a56-8c04-8c0cd312f4e0",
    "_execution_state": "idle",
    "_uuid": "18516319ab9c570974d728eb2fc55e54a7b44855",
    "colab": {},
    "colab_type": "code",
    "id": "Wt4wnrAf4akY"
   },
   "outputs": [],
   "source": [
    "pdata = pd.read_csv(\"pima-indians-diabetes.csv\")"
   ]
  },
  {
   "cell_type": "code",
   "execution_count": null,
   "metadata": {
    "_cell_guid": "e76ccd67-f803-4245-aeda-cba2da84b379",
    "_execution_state": "idle",
    "_uuid": "9c42f7d497d2b92f651a33b58359641c6593a441",
    "colab": {},
    "colab_type": "code",
    "id": "UNOiErGj4akb",
    "outputId": "3713f225-fdf2-445f-dd18-12f9792e4436"
   },
   "outputs": [],
   "source": [
    "pdata.shape # Check number of columns and rows in data frame"
   ]
  },
  {
   "cell_type": "code",
   "execution_count": null,
   "metadata": {
    "_cell_guid": "219699a3-5760-4c35-a26d-d7343085fde4",
    "_execution_state": "idle",
    "_uuid": "207cb4511bc2147529219737324a37157d1455d8",
    "colab": {},
    "colab_type": "code",
    "id": "SsYUvXsX4akf",
    "outputId": "55c8ac12-2919-4b64-ab39-201ace9883cf"
   },
   "outputs": [],
   "source": [
    "pdata.head() # To check first 5 rows of data set"
   ]
  },
  {
   "cell_type": "code",
   "execution_count": null,
   "metadata": {
    "_cell_guid": "2845e88c-8999-48d2-a94d-cae37473fd05",
    "_execution_state": "idle",
    "_uuid": "95fd5e5d6206cd21a548259734596d46329ace3a",
    "colab": {},
    "colab_type": "code",
    "id": "Zb127hx-4aki",
    "outputId": "d44dcb7f-305b-4d69-cdea-2b4b8e004c79"
   },
   "outputs": [],
   "source": [
    "pdata.isnull().values.any() # If there are any null values in data set"
   ]
  },
  {
   "cell_type": "code",
   "execution_count": null,
   "metadata": {
    "_cell_guid": "e1e111eb-5bfc-40db-8bab-b5853a91ff3a",
    "_execution_state": "idle",
    "_uuid": "9d141393f14e2a890b425f1533862ac2f03d09af",
    "colab": {},
    "colab_type": "code",
    "id": "5w7_4IXz4akk",
    "outputId": "650b6ba6-d6ad-4ea9-9801-9e9d876a32f9"
   },
   "outputs": [],
   "source": [
    "columns = list(pdata)[0:-1] # Excluding Outcome column which has only \n",
    "pdata[columns].hist(stacked=False, bins=100, figsize=(12,30), layout=(14,2)); \n",
    "# Histogram of first 8 columns"
   ]
  },
  {
   "cell_type": "markdown",
   "metadata": {
    "_cell_guid": "fb8c4dbe-588a-4c0f-97a6-a38b304482cc",
    "_execution_state": "idle",
    "_uuid": "e54f56a861fdb9d808f3063b011198b7c5e54919",
    "colab_type": "text",
    "id": "zqR2E5cZ4akq"
   },
   "source": [
    "## Identify Correlation in data "
   ]
  },
  {
   "cell_type": "code",
   "execution_count": null,
   "metadata": {
    "_cell_guid": "5712f277-5723-4fcb-86b0-1b8c84046380",
    "_execution_state": "idle",
    "_uuid": "5e3b3649d189594a1aeb9ca2b8b950a9ba0321d1",
    "colab": {},
    "colab_type": "code",
    "id": "gImeRzef4akt",
    "outputId": "0771fbaf-7dfd-4a2b-e196-98807f9e920b"
   },
   "outputs": [],
   "source": [
    "pdata.corr() # It will show correlation matrix "
   ]
  },
  {
   "cell_type": "code",
   "execution_count": null,
   "metadata": {
    "_cell_guid": "4a9f1746-22c5-4383-bbdd-e938ec7ebc90",
    "_execution_state": "idle",
    "_uuid": "6a1fddb0dccb53dea17420096c7217ed1de39cd3",
    "colab": {},
    "colab_type": "code",
    "id": "TbNmwM1A4akz"
   },
   "outputs": [],
   "source": [
    "# However we want to see correlation in graphical representation so below is function for that\n",
    "def plot_corr(df, size=11):\n",
    "    corr = df.corr()\n",
    "    fig, ax = plt.subplots(figsize=(size, size))\n",
    "    ax.matshow(corr)\n",
    "    plt.xticks(range(len(corr.columns)), corr.columns)\n",
    "    plt.yticks(range(len(corr.columns)), corr.columns)"
   ]
  },
  {
   "cell_type": "code",
   "execution_count": null,
   "metadata": {
    "_cell_guid": "2099c84c-c9e8-447f-b5c6-6437486974e4",
    "_execution_state": "idle",
    "_uuid": "3ff91c39eabb645846e0a55db47d7d96f1b74d6e",
    "colab": {},
    "colab_type": "code",
    "id": "ORXXhWLO4ak5",
    "outputId": "c1ed9579-b8d8-4e60-bb59-650c2118efb9"
   },
   "outputs": [],
   "source": [
    "plot_corr(pdata)"
   ]
  },
  {
   "cell_type": "markdown",
   "metadata": {
    "_cell_guid": "b51323f3-453b-4309-a443-4e257e9b6660",
    "_execution_state": "idle",
    "_uuid": "cd77693b0a04ea357e78bd8848b80ae848e9770d",
    "colab_type": "text",
    "id": "Ww9riIDY4ak8"
   },
   "source": [
    "In above plot yellow colour represents maximum correlation and blue colour represents minimum correlation.\n",
    "We can see none of variable have correlation with any other variables."
   ]
  },
  {
   "cell_type": "code",
   "execution_count": null,
   "metadata": {
    "colab": {},
    "colab_type": "code",
    "id": "gcxh8DcC4ak9",
    "outputId": "2fb4c003-4da2-4e2b-b811-c9ec56bb5e5b"
   },
   "outputs": [],
   "source": [
    "sns.pairplot(pdata,diag_kind='kde')"
   ]
  },
  {
   "cell_type": "markdown",
   "metadata": {
    "_cell_guid": "aa405f3c-38cc-4f3a-a775-ef0d94a067b3",
    "_execution_state": "idle",
    "_uuid": "eff7ef0f7fafb92a1c0d9a93f3a11cef4a92e0f9",
    "colab_type": "text",
    "id": "KNWgJwOY4ak_"
   },
   "source": [
    "## Calculate diabetes ratio of True/False from outcome variable "
   ]
  },
  {
   "cell_type": "code",
   "execution_count": null,
   "metadata": {
    "_cell_guid": "1e7a67ea-7dfc-4c1d-85c1-d299dfeb276e",
    "_execution_state": "idle",
    "_uuid": "63b2386dde054631a479ee491eef64d471e7c887",
    "colab": {},
    "colab_type": "code",
    "id": "YaxdNWEa4alA",
    "outputId": "f637ad68-6fbe-457f-dbce-09ffdee89ae9"
   },
   "outputs": [],
   "source": [
    "n_true = len(pdata.loc[pdata['class'] == True])\n",
    "n_false = len(pdata.loc[pdata['class'] == False])\n",
    "print(\"Number of true cases: {0} ({1:2.2f}%)\".format(n_true, (n_true / (n_true + n_false)) * 100 ))\n",
    "print(\"Number of false cases: {0} ({1:2.2f}%)\".format(n_false, (n_false / (n_true + n_false)) * 100))"
   ]
  },
  {
   "cell_type": "markdown",
   "metadata": {
    "_cell_guid": "3fb2e67c-ad71-4475-af6e-9892508d1b6f",
    "_execution_state": "idle",
    "_uuid": "eb8f05e75cd37f71ce2a9e40d0558eb5538aa08e",
    "colab_type": "text",
    "id": "Ezefpf5h4alD"
   },
   "source": [
    "So we have 34.90% people in current data set who have diabetes and rest of 65.10% doesn't have diabetes. \n",
    "\n",
    "Its a good distribution True/False cases of diabetes in data."
   ]
  },
  {
   "cell_type": "markdown",
   "metadata": {
    "_cell_guid": "5e39d0b7-2f26-4d26-8a8d-6d0da0e22594",
    "_execution_state": "idle",
    "_uuid": "3c5ea745d170940b3d831b6e128959c87f8c117f",
    "colab_type": "text",
    "id": "OUC3GtjN4alD"
   },
   "source": [
    "## Spliting the data \n",
    "We will use 70% of data for training and 30% for testing."
   ]
  },
  {
   "cell_type": "code",
   "execution_count": null,
   "metadata": {
    "_cell_guid": "5a9250a4-7c26-4770-943e-234568a37be3",
    "_execution_state": "idle",
    "_uuid": "00a1d497bd1fcae2c3500540bede6d2bbf25ab54",
    "colab": {},
    "colab_type": "code",
    "id": "U-hVdgnq4alE",
    "outputId": "fec861d8-b775-4ad2-a54d-543436c90264"
   },
   "outputs": [],
   "source": [
    "from sklearn.model_selection import train_test_split\n",
    "\n",
    "X = pdata.drop('class',axis=1)     # Predictor feature columns (8 X m)\n",
    "Y = pdata['class']   # Predicted class (1=True, 0=False) (1 X m)\n",
    "\n",
    "x_train, x_test, y_train, y_test = train_test_split(X, Y, test_size=0.3, random_state=1)\n",
    "# 1 is just any random seed number\n",
    "\n",
    "x_train.head()"
   ]
  },
  {
   "cell_type": "markdown",
   "metadata": {
    "_cell_guid": "fd533eb9-a891-40de-87d2-7db271681e51",
    "_execution_state": "idle",
    "_uuid": "f667115329e68cfa0015c8c26b57db7104ee3dbb",
    "colab_type": "text",
    "id": "KgPe9ZjS4alG"
   },
   "source": [
    "Lets check split of data"
   ]
  },
  {
   "cell_type": "code",
   "execution_count": null,
   "metadata": {
    "_execution_state": "idle",
    "_uuid": "34188146c68af804a7df3cf0e3e33ed79d096985",
    "colab": {},
    "colab_type": "code",
    "id": "zkK3r7nq4alH",
    "outputId": "3f00250f-3d9c-41ff-fda1-e2b87d618000"
   },
   "outputs": [],
   "source": [
    "print(\"{0:0.2f}% data is in training set\".format((len(x_train)/len(pdata.index)) * 100))\n",
    "print(\"{0:0.2f}% data is in test set\".format((len(x_test)/len(pdata.index)) * 100))"
   ]
  },
  {
   "cell_type": "markdown",
   "metadata": {
    "_execution_state": "idle",
    "_uuid": "83fd5fc5ee2f1b7a947e07125a62c6b205d9bdfd",
    "colab_type": "text",
    "id": "EGRif8WP4alJ"
   },
   "source": [
    "Now lets check diabetes True/False ratio in split data "
   ]
  },
  {
   "cell_type": "code",
   "execution_count": null,
   "metadata": {
    "_execution_state": "idle",
    "_uuid": "eca76e428776a0897acf958ad9791abd06700fe7",
    "colab": {},
    "colab_type": "code",
    "id": "WPYpWqsT4alK",
    "outputId": "247407be-43d6-4f59-a803-3ea69c82bdf9"
   },
   "outputs": [],
   "source": [
    "print(\"Original Diabetes True Values    : {0} ({1:0.2f}%)\".format(len(pdata.loc[pdata['class'] == 1]), (len(pdata.loc[pdata['class'] == 1])/len(pdata.index)) * 100))\n",
    "print(\"Original Diabetes False Values   : {0} ({1:0.2f}%)\".format(len(pdata.loc[pdata['class'] == 0]), (len(pdata.loc[pdata['class'] == 0])/len(pdata.index)) * 100))\n",
    "print(\"\")\n",
    "print(\"Training Diabetes True Values    : {0} ({1:0.2f}%)\".format(len(y_train[y_train[:] == 1]), (len(y_train[y_train[:] == 1])/len(y_train)) * 100))\n",
    "print(\"Training Diabetes False Values   : {0} ({1:0.2f}%)\".format(len(y_train[y_train[:] == 0]), (len(y_train[y_train[:] == 0])/len(y_train)) * 100))\n",
    "print(\"\")\n",
    "print(\"Test Diabetes True Values        : {0} ({1:0.2f}%)\".format(len(y_test[y_test[:] == 1]), (len(y_test[y_test[:] == 1])/len(y_test)) * 100))\n",
    "print(\"Test Diabetes False Values       : {0} ({1:0.2f}%)\".format(len(y_test[y_test[:] == 0]), (len(y_test[y_test[:] == 0])/len(y_test)) * 100))\n",
    "print(\"\")"
   ]
  },
  {
   "cell_type": "markdown",
   "metadata": {
    "_execution_state": "idle",
    "_uuid": "7170e34e9c311bc3f08f02a7ee48ad849f40c006",
    "colab_type": "text",
    "id": "GdSl413O4alM"
   },
   "source": [
    "# Data Preparation\n",
    "\n",
    "### Check hidden missing values \n",
    "\n",
    "As we checked missing values earlier but haven't got any. But there can be lots of entries with 0 values. We must need to take care of those as well."
   ]
  },
  {
   "cell_type": "code",
   "execution_count": null,
   "metadata": {
    "_execution_state": "idle",
    "_uuid": "6c0207322e005d651a75bebc0b98b1b4622299a2",
    "colab": {},
    "colab_type": "code",
    "id": "VA5d84PQ4alM",
    "outputId": "2f4234be-de4a-4b7f-e459-c72aaff4bbc4"
   },
   "outputs": [],
   "source": [
    "x_train.head()"
   ]
  },
  {
   "cell_type": "markdown",
   "metadata": {
    "_execution_state": "idle",
    "_uuid": "e80cde8bbec78d3e5f938fcc450c1d45b617aa76",
    "colab_type": "text",
    "id": "7W51CIcM4alP"
   },
   "source": [
    "We can see lots of 0 entries above."
   ]
  },
  {
   "cell_type": "markdown",
   "metadata": {
    "_execution_state": "idle",
    "_uuid": "451c63a2f53a84f71f0ef11151b8a1e2ce3b9c9a",
    "colab_type": "text",
    "id": "pA_8485c4alP"
   },
   "source": [
    "### Replace 0s with serial mean "
   ]
  },
  {
   "cell_type": "code",
   "execution_count": null,
   "metadata": {
    "_execution_state": "idle",
    "_uuid": "0135f4ba70fef49db752a533488463101e84d2fb",
    "colab": {},
    "colab_type": "code",
    "id": "0n8B8ChN4alQ",
    "outputId": "56447d05-c341-470e-8034-cf655edc7896"
   },
   "outputs": [],
   "source": [
    "#from sklearn.preprocessing import Imputer\n",
    "#my_imputer = Imputer()\n",
    "#data_with_imputed_values = my_imputer.fit_transform(original_data)\n",
    "\n",
    "from sklearn.impute import SimpleImputer\n",
    "rep_0 = SimpleImputer(missing_values=0, strategy=\"mean\")\n",
    "cols=x_train.columns\n",
    "x_train = pd.DataFrame(rep_0.fit_transform(x_train))\n",
    "x_test = pd.DataFrame(rep_0.fit_transform(x_test))\n",
    "\n",
    "x_train.columns = cols\n",
    "x_test.columns = cols\n",
    "\n",
    "x_train.head()"
   ]
  },
  {
   "cell_type": "code",
   "execution_count": 3,
   "metadata": {},
   "outputs": [
    {
     "ename": "NameError",
     "evalue": "name 'x_train' is not defined",
     "output_type": "error",
     "traceback": [
      "\u001b[1;31m---------------------------------------------------------------------------\u001b[0m",
      "\u001b[1;31mNameError\u001b[0m                                 Traceback (most recent call last)",
      "\u001b[1;32m~\\AppData\\Local\\Temp/ipykernel_24184/3007905881.py\u001b[0m in \u001b[0;36m<module>\u001b[1;34m\u001b[0m\n\u001b[1;32m----> 1\u001b[1;33m \u001b[0mx_train\u001b[0m\u001b[1;33m.\u001b[0m\u001b[0mdescribe\u001b[0m\u001b[1;33m(\u001b[0m\u001b[1;33m)\u001b[0m\u001b[1;33m\u001b[0m\u001b[1;33m\u001b[0m\u001b[0m\n\u001b[0m",
      "\u001b[1;31mNameError\u001b[0m: name 'x_train' is not defined"
     ]
    }
   ],
   "source": [
    "x_train.describe()"
   ]
  },
  {
   "cell_type": "markdown",
   "metadata": {
    "_execution_state": "idle",
    "_uuid": "da6c25c6f1a37920aa7eba1f5613b76cf50eea1b",
    "colab_type": "text",
    "id": "frNLByGe4alS"
   },
   "source": [
    "# Logistic Regression"
   ]
  },
  {
   "cell_type": "code",
   "execution_count": null,
   "metadata": {
    "_execution_state": "idle",
    "_uuid": "457aeceed9af02bc850c6c982371b55fe87e4d44",
    "colab": {},
    "colab_type": "code",
    "id": "_VIFinQQ4alT",
    "outputId": "b35e327e-9571-42d5-a5ac-dd7ceab76a25"
   },
   "outputs": [],
   "source": [
    "from sklearn import metrics\n",
    "\n",
    "from sklearn.linear_model import LogisticRegression\n",
    "\n",
    "# Fit the model on train\n",
    "model = LogisticRegression(solver=\"liblinear\")\n",
    "model.fit(x_train, y_train)\n",
    "#predict on test\n",
    "y_predict = model.predict(x_test)\n",
    "\n",
    "\n",
    "coef_df = pd.DataFrame(model.coef_)\n",
    "coef_df['intercept'] = model.intercept_\n",
    "print(coef_df)"
   ]
  },
  {
   "cell_type": "code",
   "execution_count": null,
   "metadata": {
    "colab": {},
    "colab_type": "code",
    "id": "qb3GrW9V4alV",
    "outputId": "102c569d-db5e-48d1-c2be-16dc3b2bc5b6"
   },
   "outputs": [],
   "source": [
    "model_score = model.score(x_test, y_test)\n",
    "print(model_score)"
   ]
  },
  {
   "cell_type": "code",
   "execution_count": null,
   "metadata": {
    "colab": {},
    "colab_type": "code",
    "id": "UiDn6jw04alZ",
    "outputId": "3d922456-fa5a-47dc-d39b-73356e3d69bd"
   },
   "outputs": [],
   "source": [
    "cm=metrics.confusion_matrix(y_test, y_predict, labels=[1, 0])\n",
    "\n",
    "df_cm = pd.DataFrame(cm, index = [i for i in [\"1\",\"0\"]],\n",
    "                  columns = [i for i in [\"Predict 1\",\"Predict 0\"]])\n",
    "plt.figure(figsize = (7,5))\n",
    "sns.heatmap(df_cm, annot=True)"
   ]
  },
  {
   "cell_type": "markdown",
   "metadata": {
    "_execution_state": "idle",
    "_uuid": "47745b3567079b6e08009906a5c5b187d79b9dcd",
    "colab_type": "text",
    "id": "KReoYdxA4alb"
   },
   "source": [
    "The confusion matrix\n",
    "\n",
    "True Positives (TP): we correctly predicted that they do have diabetes 48\n",
    "\n",
    "True Negatives (TN): we correctly predicted that they don't have diabetes 132\n",
    "\n",
    "False Positives (FP): we incorrectly predicted that they do have diabetes (a \"Type I error\") 14 Falsely predict positive Type I error\n",
    "\n",
    "False Negatives (FN): we incorrectly predicted that they don't have diabetes (a \"Type II error\") 37 Falsely predict negative Type II error"
   ]
  },
  {
   "cell_type": "code",
   "execution_count": null,
   "metadata": {
    "colab": {},
    "colab_type": "code",
    "id": "5GNYuTGO4alc"
   },
   "outputs": [],
   "source": []
  }
 ],
 "metadata": {
  "colab": {
   "collapsed_sections": [],
   "name": "Logistic Regression.ipynb",
   "provenance": []
  },
  "kernelspec": {
   "display_name": "Python 3 (ipykernel)",
   "language": "python",
   "name": "python3"
  },
  "language_info": {
   "codemirror_mode": {
    "name": "ipython",
    "version": 3
   },
   "file_extension": ".py",
   "mimetype": "text/x-python",
   "name": "python",
   "nbconvert_exporter": "python",
   "pygments_lexer": "ipython3",
   "version": "3.8.8"
  }
 },
 "nbformat": 4,
 "nbformat_minor": 1
}
